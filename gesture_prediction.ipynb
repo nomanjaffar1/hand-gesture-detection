{
 "cells": [
  {
   "cell_type": "code",
   "execution_count": 5,
   "id": "96515767",
   "metadata": {},
   "outputs": [
    {
     "name": "stdout",
     "output_type": "stream",
     "text": [
      "4.9.0\n"
     ]
    }
   ],
   "source": [
    "import cv2\n",
    "#pip install opencv-python\n",
    "# Test OpenCV\n",
    "print(cv2.__version__)\n"
   ]
  },
  {
   "cell_type": "code",
   "execution_count": 25,
   "id": "eeae7928",
   "metadata": {},
   "outputs": [],
   "source": [
    "import numpy as np\n",
    "import os\n",
    "import cv2\n",
    "import matplotlib.pyplot as plt\n",
    "%matplotlib inline\n",
    "import random\n",
    "\n"
   ]
  },
  {
   "cell_type": "code",
   "execution_count": 48,
   "id": "0eec8047",
   "metadata": {},
   "outputs": [],
   "source": [
    "# Read data files\n",
    "DIRECTORY = r\"D:\\Gesture Image Data\"\n",
    "\n",
    "CATEGORIES = ['A', 'B', 'C', 'D', 'E', 'F', 'G', 'H', 'I', 'J', 'K', 'L', 'M', 'N', 'O', 'P', 'Q', 'R', 'S', 'T', 'U', 'V', 'W', 'X', 'Y', 'Z']"
   ]
  },
  {
   "cell_type": "code",
   "execution_count": 49,
   "id": "68e3c109",
   "metadata": {},
   "outputs": [],
   "source": [
    "# # preprocess the data\n",
    "DATA = []  #store the image and labals( 'VICTORY( 0 ) and FOOD IS YUMMY( 1 ) ) \n",
    "\n",
    "for category in CATEGORIES:\n",
    "    i=0\n",
    "    path = os.path.join(DIRECTORY, category)\n",
    "    for img in os.listdir(path):\n",
    "        if i==10:\n",
    "            break\n",
    "        i=i+1\n",
    "        img_path = os.path.join(path, img)\n",
    "        label = CATEGORIES.index(category)\n",
    "        arr = cv2.imread(img_path, cv2.IMREAD_GRAYSCALE)\n",
    "        new_arr = cv2.resize(arr, (40, 40))        #resize the image using cv2\n",
    "        DATA.append([new_arr, label])"
   ]
  },
  {
   "cell_type": "code",
   "execution_count": 4,
   "id": "d5127fd9",
   "metadata": {},
   "outputs": [],
   "source": [
    "# see data after preprocessed how to look\n",
    "\n",
    "\n",
    "# import cv2\n",
    "# import matplotlib.pyplot as plt\n",
    "# import matplotlib.image as mpimg \n",
    "# def image(path):\n",
    "#     img = mpimg.imread(path)\n",
    "\n",
    "#     # Display the image\n",
    "#     plt.imshow(img)\n",
    "#     plt.axis('off')  # Hide axes\n",
    "#     plt.show()\n",
    "#     img = cv2.imread( path, cv2.IMREAD_GRAYSCALE )\n",
    "#     new_arr = cv2.resize(img, (40, 40))\n",
    "#     plt.imshow(new_arr)\n",
    "#     plt.axis('off')  # Hide axes\n",
    "#     plt.show()\n",
    "#     new_arr = np.array(new_arr)\n",
    "#     new_arr = new_arr.reshape(-1, 40, 40, 1)\n",
    "    \n",
    "\n",
    "# image(r'D:\\abdulrahman\\gesturedata\\VICTORY\\2.jpg')"
   ]
  },
  {
   "cell_type": "code",
   "execution_count": 50,
   "id": "ed7cbefd",
   "metadata": {},
   "outputs": [
    {
     "data": {
      "text/plain": [
       "[array([[180, 179, 180, ..., 165, 163, 163],\n",
       "        [180, 180, 180, ..., 166, 164, 164],\n",
       "        [179, 179, 179, ..., 165, 164, 164],\n",
       "        ...,\n",
       "        [173, 172, 170, ..., 161, 161, 162],\n",
       "        [172, 171, 169, ..., 160, 160, 160],\n",
       "        [171, 170, 169, ..., 158, 159, 160]], dtype=uint8),\n",
       " 0]"
      ]
     },
     "execution_count": 50,
     "metadata": {},
     "output_type": "execute_result"
    }
   ],
   "source": [
    "DATA[0]"
   ]
  },
  {
   "cell_type": "code",
   "execution_count": 51,
   "id": "e72fca40",
   "metadata": {},
   "outputs": [],
   "source": [
    "# separete the inputs and labals\n",
    "INPUT = []  #   store the images in list\n",
    "LABELS = []  #   store the labals of image\n",
    "for input_labals in DATA:\n",
    "    INPUT.append(input_labals[0])\n",
    "    LABELS.append(input_labals[1])\n",
    "    "
   ]
  },
  {
   "cell_type": "code",
   "execution_count": 31,
   "id": "69a797da",
   "metadata": {},
   "outputs": [
    {
     "name": "stdout",
     "output_type": "stream",
     "text": [
      "260\n",
      "260\n"
     ]
    }
   ],
   "source": [
    "print(len(INPUT))\n",
    "print(len(LABELS))"
   ]
  },
  {
   "cell_type": "code",
   "execution_count": 52,
   "id": "2d4c5bae",
   "metadata": {},
   "outputs": [],
   "source": [
    "INPUT = np.array(INPUT) / 255.0    # for normalization because they are 255 pixel in each chanel so each pixel is bw 0 and 1\n",
    "LABELS = np.array(LABELS)"
   ]
  },
  {
   "cell_type": "code",
   "execution_count": 53,
   "id": "f7023f15",
   "metadata": {},
   "outputs": [
    {
     "data": {
      "text/plain": [
       "26"
      ]
     },
     "execution_count": 53,
     "metadata": {},
     "output_type": "execute_result"
    }
   ],
   "source": [
    "num_classes = len(np.unique(LABELS))\n",
    "num_classes"
   ]
  },
  {
   "cell_type": "code",
   "execution_count": 33,
   "id": "9e3ea4e6",
   "metadata": {},
   "outputs": [
    {
     "data": {
      "text/plain": [
       "array([[0.71372549, 0.70980392, 0.70588235, ..., 0.64705882, 0.64313725,\n",
       "        0.64313725],\n",
       "       [0.70980392, 0.70588235, 0.70588235, ..., 0.65098039, 0.64705882,\n",
       "        0.64705882],\n",
       "       [0.70980392, 0.70980392, 0.70980392, ..., 0.65098039, 0.65098039,\n",
       "        0.64705882],\n",
       "       ...,\n",
       "       [0.6745098 , 0.6745098 , 0.6745098 , ..., 0.65882353, 0.65882353,\n",
       "        0.6627451 ],\n",
       "       [0.67058824, 0.67058824, 0.67058824, ..., 0.65098039, 0.65882353,\n",
       "        0.6627451 ],\n",
       "       [0.67058824, 0.67058824, 0.67058824, ..., 0.65098039, 0.65882353,\n",
       "        0.65882353]])"
      ]
     },
     "execution_count": 33,
     "metadata": {},
     "output_type": "execute_result"
    }
   ],
   "source": [
    "INPUT[3]"
   ]
  },
  {
   "cell_type": "code",
   "execution_count": 54,
   "id": "35c3ef37",
   "metadata": {},
   "outputs": [],
   "source": [
    "\n",
    "INPUT = INPUT.reshape(-1, 40, 40, 1)   #  only gray (1) channel"
   ]
  },
  {
   "cell_type": "code",
   "execution_count": 47,
   "id": "ff90b0a8",
   "metadata": {},
   "outputs": [],
   "source": [
    "from keras.models import Model\n",
    "from keras.layers import Input, Conv2D, MaxPooling2D, Flatten, Dense"
   ]
  },
  {
   "cell_type": "code",
   "execution_count": 56,
   "id": "cc81223e",
   "metadata": {},
   "outputs": [],
   "source": [
    "\n",
    "\n",
    "# Define input layer with specified input shape\n",
    "input_layer = Input(shape=(40, 40, 1))\n",
    "\n",
    "# Add convolutional layer with specified parameters\n",
    "conv1 = Conv2D(64, kernel_size=(3, 3), activation='relu', padding='same')(input_layer)\n",
    "pool1 = MaxPooling2D(pool_size=(2, 2))(conv1)\n",
    "\n",
    "# Add another convolutional layer\n",
    "conv2 = Conv2D(32, kernel_size=(3, 3), activation='relu', padding='same')(pool1)\n",
    "pool2 = MaxPooling2D(pool_size=(2, 2))(conv2)\n",
    "\n",
    "# Flatten the output before passing to dense layers\n",
    "flatten = Flatten()(pool2)\n",
    "\n",
    "# Fully connected layers\n",
    "dense1 = Dense(256, activation='relu')(flatten)\n",
    "dense2 = Dense(128, activation='relu')(dense1)\n",
    "dense3 = Dense(64, activation='relu')(dense2)\n",
    "\n",
    "# Output layer with softmax activation for multi-class classification\n",
    "output_layer = Dense(26, activation='softmax')(dense3)  # 26 classes\n",
    "\n",
    "# Create model by specifying input and output layers\n",
    "model = Model(inputs=input_layer, outputs=output_layer)\n",
    "\n",
    "\n"
   ]
  },
  {
   "cell_type": "code",
   "execution_count": 57,
   "id": "4471aa02",
   "metadata": {},
   "outputs": [],
   "source": [
    "# Compile the model with appropriate loss and optimizer\n",
    "model.compile(optimizer='adam', loss='sparse_categorical_crossentropy', metrics=['accuracy'])"
   ]
  },
  {
   "cell_type": "markdown",
   "id": "8544d833",
   "metadata": {},
   "source": []
  },
  {
   "cell_type": "code",
   "execution_count": 58,
   "id": "bb197fd0",
   "metadata": {},
   "outputs": [
    {
     "name": "stdout",
     "output_type": "stream",
     "text": [
      "Epoch 1/2\n",
      "\u001b[1m8/8\u001b[0m \u001b[32m━━━━━━━━━━━━━━━━━━━━\u001b[0m\u001b[37m\u001b[0m \u001b[1m6s\u001b[0m 152ms/step - accuracy: 0.0440 - loss: 3.2575 - val_accuracy: 0.0000e+00 - val_loss: 3.5206\n",
      "Epoch 2/2\n",
      "\u001b[1m8/8\u001b[0m \u001b[32m━━━━━━━━━━━━━━━━━━━━\u001b[0m\u001b[37m\u001b[0m \u001b[1m1s\u001b[0m 80ms/step - accuracy: 0.0576 - loss: 3.1980 - val_accuracy: 0.0000e+00 - val_loss: 4.2131\n"
     ]
    },
    {
     "data": {
      "text/plain": [
       "<keras.src.callbacks.history.History at 0x1f79e224f20>"
      ]
     },
     "execution_count": 58,
     "metadata": {},
     "output_type": "execute_result"
    }
   ],
   "source": [
    "model.fit(INPUT,LABELS, epochs=2, validation_split=0.1)"
   ]
  },
  {
   "cell_type": "code",
   "execution_count": 60,
   "id": "06723f37",
   "metadata": {},
   "outputs": [],
   "source": [
    "import cv2\n",
    "import matplotlib.pyplot as plt\n",
    "import matplotlib.image as mpimg \n",
    "def image(path):\n",
    "    img = mpimg.imread(path)\n",
    "\n",
    "    # Display the image\n",
    "    plt.imshow(img)\n",
    "    plt.axis('off')  # Hide axes\n",
    "    plt.show()\n",
    "    img = cv2.imread( path, cv2.IMREAD_GRAYSCALE )\n",
    "    new_arr = cv2.resize(img, (40, 40))\n",
    "    new_arr = np.array(new_arr)\n",
    "    new_arr = new_arr.reshape(-1, 40, 40, 1)\n",
    "    return new_arr"
   ]
  },
  {
   "cell_type": "code",
   "execution_count": 61,
   "id": "931e3fdf",
   "metadata": {},
   "outputs": [
    {
     "data": {
      "image/png": "[encoded data removed]",
      "text/plain": [
       "<Figure size 640x480 with 1 Axes>"
      ]
     },
     "metadata": {},
     "output_type": "display_data"
    },
    {
     "name": "stdout",
     "output_type": "stream",
     "text": [
      "\u001b[1m1/1\u001b[0m \u001b[32m━━━━━━━━━━━━━━━━━━━━\u001b[0m\u001b[37m\u001b[0m \u001b[1m0s\u001b[0m 227ms/step\n",
      "U\n"
     ]
    }
   ],
   "source": [
    "import cv2\n",
    "import matplotlib.pyplot as plt\n",
    "import matplotlib.image as mpimg\n",
    "prediction = model.predict([image(r\"D:\\Gesture Image Pre-Processed Data\\M\\35.jpg\")])\n",
    "print(CATEGORIES[prediction.argmax()])"
   ]
  },
  {
   "cell_type": "code",
   "execution_count": null,
   "id": "9a942481",
   "metadata": {},
   "outputs": [],
   "source": []
  }
 ],
 "metadata": {
  "kernelspec": {
   "display_name": "Python 3 (ipykernel)",
   "language": "python",
   "name": "python3"
  },
  "language_info": {
   "codemirror_mode": {
    "name": "ipython",
    "version": 3
   },
   "file_extension": ".py",
   "mimetype": "text/x-python",
   "name": "python",
   "nbconvert_exporter": "python",
   "pygments_lexer": "ipython3",
   "version": "3.12.2"
  }
 },
 "nbformat": 4,
 "nbformat_minor": 5
}
